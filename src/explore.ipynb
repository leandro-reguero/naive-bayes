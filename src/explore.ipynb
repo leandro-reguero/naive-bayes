{
    "cells": [
        {
            "cell_type": "markdown",
            "metadata": {},
            "source": [
                "# Explore here"
            ]
        },
        {
            "cell_type": "code",
            "execution_count": 18,
            "metadata": {},
            "outputs": [],
            "source": [
                "\n",
                "#! importante\n",
                "#? duda\n",
                "#TODO: \n",
                "#// borrar\n",
                "#* esto no se pa que es \n"
            ]
        },
        {
            "cell_type": "markdown",
            "metadata": {},
            "source": [
                "#### Naive bayes --> independant variables --> no correlation between predictors"
            ]
        },
        {
            "cell_type": "markdown",
            "metadata": {},
            "source": [
                "##### gaussian --> data is continuous (gaussian implies normal distribution --> continuous)\n",
                "\n",
                "##### multinomial --> all variables are discrete (multinomial distribution)\n",
                "\n",
                "##### bernoulli --> all variables are binary (1s and 0s)\n",
                "\n"
            ]
        },
        {
            "cell_type": "code",
            "execution_count": 19,
            "metadata": {},
            "outputs": [],
            "source": [
                "# import libraries\n",
                "import pandas as pd\n",
                "import numpy as np\n",
                "\n",
                "import matplotlib.pyplot as plt\n",
                "import seaborn as sns\n",
                "\n",
                "from sklearn.datasets import load_iris\n",
                "from sklearn.model_selection import train_test_split\n",
                "\n",
                "from sklearn.ensemble import AdaBoostClassifier\n",
                "from sklearn.ensemble import GradientBoostingClassifier\n",
                "from xgboost import XGBClassifier\n",
                "from lightgbm import LGBMClassifier\n",
                "\n",
                "from sklearn.ensemble import AdaBoostRegressor\n",
                "from sklearn.ensemble import GradientBoostingRegressor\n",
                "from xgboost import XGBRegressor\n",
                "from lightgbm import LGBMRegressor\n",
                "\n",
                "from sklearn.metrics import accuracy_score\n",
                "from sklearn.metrics import f1_score\n",
                "from sklearn.metrics import precision_score\n",
                "from sklearn.metrics import recall_score\n",
                "from sklearn.metrics import classification_report\n",
                "\n",
                "from sklearn.metrics import mean_squared_error, r2_score\n",
                "\n",
                "from pickle import dump"
            ]
        },
        {
            "cell_type": "code",
            "execution_count": 20,
            "metadata": {},
            "outputs": [
                {
                    "data": {
                        "text/html": [
                            "<div>\n",
                            "<style scoped>\n",
                            "    .dataframe tbody tr th:only-of-type {\n",
                            "        vertical-align: middle;\n",
                            "    }\n",
                            "\n",
                            "    .dataframe tbody tr th {\n",
                            "        vertical-align: top;\n",
                            "    }\n",
                            "\n",
                            "    .dataframe thead th {\n",
                            "        text-align: right;\n",
                            "    }\n",
                            "</style>\n",
                            "<table border=\"1\" class=\"dataframe\">\n",
                            "  <thead>\n",
                            "    <tr style=\"text-align: right;\">\n",
                            "      <th></th>\n",
                            "      <th>package_name</th>\n",
                            "      <th>review</th>\n",
                            "      <th>polarity</th>\n",
                            "    </tr>\n",
                            "  </thead>\n",
                            "  <tbody>\n",
                            "    <tr>\n",
                            "      <th>0</th>\n",
                            "      <td>com.facebook.katana</td>\n",
                            "      <td>privacy at least put some option appear offli...</td>\n",
                            "      <td>0</td>\n",
                            "    </tr>\n",
                            "    <tr>\n",
                            "      <th>1</th>\n",
                            "      <td>com.facebook.katana</td>\n",
                            "      <td>messenger issues ever since the last update, ...</td>\n",
                            "      <td>0</td>\n",
                            "    </tr>\n",
                            "    <tr>\n",
                            "      <th>2</th>\n",
                            "      <td>com.facebook.katana</td>\n",
                            "      <td>profile any time my wife or anybody has more ...</td>\n",
                            "      <td>0</td>\n",
                            "    </tr>\n",
                            "    <tr>\n",
                            "      <th>3</th>\n",
                            "      <td>com.facebook.katana</td>\n",
                            "      <td>the new features suck for those of us who don...</td>\n",
                            "      <td>0</td>\n",
                            "    </tr>\n",
                            "    <tr>\n",
                            "      <th>4</th>\n",
                            "      <td>com.facebook.katana</td>\n",
                            "      <td>forced reload on uploading pic on replying co...</td>\n",
                            "      <td>0</td>\n",
                            "    </tr>\n",
                            "    <tr>\n",
                            "      <th>5</th>\n",
                            "      <td>com.facebook.katana</td>\n",
                            "      <td>idk i can't edit my posts? things such as my ...</td>\n",
                            "      <td>0</td>\n",
                            "    </tr>\n",
                            "    <tr>\n",
                            "      <th>6</th>\n",
                            "      <td>com.facebook.katana</td>\n",
                            "      <td>major flaws constant updates and always getti...</td>\n",
                            "      <td>0</td>\n",
                            "    </tr>\n",
                            "    <tr>\n",
                            "      <th>7</th>\n",
                            "      <td>com.facebook.katana</td>\n",
                            "      <td>video issues since i was forced into this upd...</td>\n",
                            "      <td>0</td>\n",
                            "    </tr>\n",
                            "    <tr>\n",
                            "      <th>8</th>\n",
                            "      <td>com.facebook.katana</td>\n",
                            "      <td>this update completely destroyed my facebook...</td>\n",
                            "      <td>0</td>\n",
                            "    </tr>\n",
                            "    <tr>\n",
                            "      <th>9</th>\n",
                            "      <td>com.facebook.katana</td>\n",
                            "      <td>posting issues for the last week, there's bee...</td>\n",
                            "      <td>0</td>\n",
                            "    </tr>\n",
                            "  </tbody>\n",
                            "</table>\n",
                            "</div>"
                        ],
                        "text/plain": [
                            "          package_name                                             review  \\\n",
                            "0  com.facebook.katana   privacy at least put some option appear offli...   \n",
                            "1  com.facebook.katana   messenger issues ever since the last update, ...   \n",
                            "2  com.facebook.katana   profile any time my wife or anybody has more ...   \n",
                            "3  com.facebook.katana   the new features suck for those of us who don...   \n",
                            "4  com.facebook.katana   forced reload on uploading pic on replying co...   \n",
                            "5  com.facebook.katana   idk i can't edit my posts? things such as my ...   \n",
                            "6  com.facebook.katana   major flaws constant updates and always getti...   \n",
                            "7  com.facebook.katana   video issues since i was forced into this upd...   \n",
                            "8  com.facebook.katana    this update completely destroyed my facebook...   \n",
                            "9  com.facebook.katana   posting issues for the last week, there's bee...   \n",
                            "\n",
                            "   polarity  \n",
                            "0         0  \n",
                            "1         0  \n",
                            "2         0  \n",
                            "3         0  \n",
                            "4         0  \n",
                            "5         0  \n",
                            "6         0  \n",
                            "7         0  \n",
                            "8         0  \n",
                            "9         0  "
                        ]
                    },
                    "execution_count": 20,
                    "metadata": {},
                    "output_type": "execute_result"
                }
            ],
            "source": [
                "\n",
                "df = pd.read_csv('https://raw.githubusercontent.com/4GeeksAcademy/naive-bayes-project-tutorial/main/playstore_reviews.csv')\n",
                "df.head(10)"
            ]
        },
        {
            "cell_type": "markdown",
            "metadata": {},
            "source": [
                "get embeddings --> checkear eso en vez de knn"
            ]
        },
        {
            "cell_type": "code",
            "execution_count": 21,
            "metadata": {},
            "outputs": [],
            "source": [
                "df.to_csv('../data/raw/playstore_reviews.csv', index=False)"
            ]
        },
        {
            "cell_type": "markdown",
            "metadata": {},
            "source": [
                "### Starting the Project"
            ]
        },
        {
            "cell_type": "code",
            "execution_count": 22,
            "metadata": {},
            "outputs": [
                {
                    "name": "stdout",
                    "output_type": "stream",
                    "text": [
                        "polarity\n",
                        "0    584\n",
                        "1    307\n",
                        "Name: count, dtype: int64\n"
                    ]
                },
                {
                    "data": {
                        "image/png": "[encoded data removed]",
                        "text/plain": [
                            "<Figure size 640x480 with 1 Axes>"
                        ]
                    },
                    "metadata": {},
                    "output_type": "display_data"
                }
            ],
            "source": [
                "df['polarity'].value_counts().plot(kind='bar')\n",
                "print(df['polarity'].value_counts())"
            ]
        },
        {
            "cell_type": "code",
            "execution_count": 23,
            "metadata": {},
            "outputs": [
                {
                    "name": "stdout",
                    "output_type": "stream",
                    "text": [
                        "Missing values:\n",
                        "package_name    0\n",
                        "review          0\n",
                        "polarity        0\n",
                        "dtype: int64\n",
                        "\n",
                        "Duplicates:\n",
                        "0\n",
                        "\n",
                        "Unique values:\n",
                        "package_name     23\n",
                        "review          891\n",
                        "polarity          2\n",
                        "dtype: int64\n"
                    ]
                }
            ],
            "source": [
                "print('Missing values:') \n",
                "print(df.isnull().sum())\n",
                "print(\"\")\n",
                "print('Duplicates:')    \n",
                "print(df.duplicated().sum())\n",
                "\n",
                "print(\"\")   \n",
                "print('Unique values:')\n",
                "print(df.nunique())"
            ]
        },
        {
            "cell_type": "markdown",
            "metadata": {},
            "source": [
                "##### Package Name"
            ]
        },
        {
            "cell_type": "code",
            "execution_count": 24,
            "metadata": {},
            "outputs": [
                {
                    "name": "stdout",
                    "output_type": "stream",
                    "text": [
                        "package_name\n",
                        "com.facebook.katana           40\n",
                        "com.evernote                  40\n",
                        "com.linkedin.android          40\n",
                        "com.king.candycrushsaga       40\n",
                        "com.imangi.templerun2         40\n",
                        "com.supercell.clashofclans    40\n",
                        "org.mozilla.firefox           40\n",
                        "com.opera.mini.native         40\n",
                        "com.viber.voip                40\n",
                        "com.facebook.orca             40\n",
                        "com.uc.browser.en             40\n",
                        "com.Slack                     40\n",
                        "com.dropbox.android           40\n",
                        "com.hamrokeyboard             39\n",
                        "com.whatsapp                  39\n",
                        "com.twitter.android           39\n",
                        "com.google.android.talk       39\n",
                        "com.tencent.mm                39\n",
                        "com.android.chrome            39\n",
                        "com.rovio.angrybirds          39\n",
                        "com.hamropatro                38\n",
                        "com.shirantech.kantipur       36\n",
                        "jabanaki.todo.todoly          24\n",
                        "Name: count, dtype: int64\n",
                        "['com.facebook.katana' 'com.twitter.android' 'com.linkedin.android'\n",
                        " 'com.king.candycrushsaga' 'com.imangi.templerun2'\n",
                        " 'com.supercell.clashofclans' 'com.android.chrome' 'com.tencent.mm'\n",
                        " 'com.viber.voip' 'com.google.android.talk' 'com.facebook.orca'\n",
                        " 'com.whatsapp' 'com.Slack' 'com.dropbox.android' 'jabanaki.todo.todoly'\n",
                        " 'com.evernote' 'com.uc.browser.en' 'com.hamrokeyboard'\n",
                        " 'com.opera.mini.native' 'com.shirantech.kantipur' 'org.mozilla.firefox'\n",
                        " 'com.hamropatro' 'com.rovio.angrybirds']\n"
                    ]
                }
            ],
            "source": [
                "print(df['package_name'].value_counts())\n",
                "print(df['package_name'].unique())"
            ]
        },
        {
            "cell_type": "code",
            "execution_count": 28,
            "metadata": {},
            "outputs": [
                {
                    "data": {
                        "text/html": [
                            "<div>\n",
                            "<style scoped>\n",
                            "    .dataframe tbody tr th:only-of-type {\n",
                            "        vertical-align: middle;\n",
                            "    }\n",
                            "\n",
                            "    .dataframe tbody tr th {\n",
                            "        vertical-align: top;\n",
                            "    }\n",
                            "\n",
                            "    .dataframe thead th {\n",
                            "        text-align: right;\n",
                            "    }\n",
                            "</style>\n",
                            "<table border=\"1\" class=\"dataframe\">\n",
                            "  <thead>\n",
                            "    <tr style=\"text-align: right;\">\n",
                            "      <th></th>\n",
                            "      <th>review</th>\n",
                            "      <th>polarity</th>\n",
                            "    </tr>\n",
                            "  </thead>\n",
                            "  <tbody>\n",
                            "    <tr>\n",
                            "      <th>0</th>\n",
                            "      <td>privacy at least put some option appear offli...</td>\n",
                            "      <td>0</td>\n",
                            "    </tr>\n",
                            "    <tr>\n",
                            "      <th>1</th>\n",
                            "      <td>messenger issues ever since the last update, ...</td>\n",
                            "      <td>0</td>\n",
                            "    </tr>\n",
                            "    <tr>\n",
                            "      <th>2</th>\n",
                            "      <td>profile any time my wife or anybody has more ...</td>\n",
                            "      <td>0</td>\n",
                            "    </tr>\n",
                            "    <tr>\n",
                            "      <th>3</th>\n",
                            "      <td>the new features suck for those of us who don...</td>\n",
                            "      <td>0</td>\n",
                            "    </tr>\n",
                            "    <tr>\n",
                            "      <th>4</th>\n",
                            "      <td>forced reload on uploading pic on replying co...</td>\n",
                            "      <td>0</td>\n",
                            "    </tr>\n",
                            "  </tbody>\n",
                            "</table>\n",
                            "</div>"
                        ],
                        "text/plain": [
                            "                                              review  polarity\n",
                            "0   privacy at least put some option appear offli...         0\n",
                            "1   messenger issues ever since the last update, ...         0\n",
                            "2   profile any time my wife or anybody has more ...         0\n",
                            "3   the new features suck for those of us who don...         0\n",
                            "4   forced reload on uploading pic on replying co...         0"
                        ]
                    },
                    "execution_count": 28,
                    "metadata": {},
                    "output_type": "execute_result"
                }
            ],
            "source": [
                "df = df.drop('package_name', axis=1)\n",
                "df.head()"
            ]
        },
        {
            "cell_type": "code",
            "execution_count": null,
            "metadata": {},
            "outputs": [],
            "source": [
                "vec_model = CountVectorizer()"
            ]
        }
    ],
    "metadata": {
        "kernelspec": {
            "display_name": "Python 3.8.13 64-bit ('3.8.13')",
            "language": "python",
            "name": "python3"
        },
        "language_info": {
            "codemirror_mode": {
                "name": "ipython",
                "version": 3
            },
            "file_extension": ".py",
            "mimetype": "text/x-python",
            "name": "python",
            "nbconvert_exporter": "python",
            "pygments_lexer": "ipython3",
            "version": "3.11.1"
        },
        "orig_nbformat": 4,
        "vscode": {
            "interpreter": {
                "hash": "110cc1dee26208153f2972f08a2ad52b6a56238dc66d48e87fb757ef2996db56"
            }
        }
    },
    "nbformat": 4,
    "nbformat_minor": 2
}
